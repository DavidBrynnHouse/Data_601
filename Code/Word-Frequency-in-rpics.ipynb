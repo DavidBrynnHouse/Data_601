{
 "cells": [
  {
   "cell_type": "code",
   "execution_count": 31,
   "metadata": {},
   "outputs": [
    {
     "name": "stdout",
     "output_type": "stream",
     "text": [
      "       Title Word Count\n",
      "count        100.000000\n",
      "mean          16.090000\n",
      "std           10.524714\n",
      "min            2.000000\n",
      "25%            9.750000\n",
      "50%           14.500000\n",
      "75%           20.250000\n",
      "max           51.000000\n"
     ]
    },
    {
     "data": {
      "image/png": "[encoded data removed]",
      "text/plain": [
       "<Figure size 432x288 with 1 Axes>"
      ]
     },
     "metadata": {
      "needs_background": "light"
     },
     "output_type": "display_data"
    }
   ],
   "source": [
    "import json\n",
    "import pandas as pd\n",
    "\n",
    "#loads in data retrieved from https://json.reddit.com/r/pics/top/?limit=100&t=all\n",
    "reddit_file = open(\"../data/pics.json\")\n",
    "reddit_data = json.load(reddit_file)\n",
    "    \n",
    "#Digs deeper into the reddit_data until we reach a list\n",
    "initial_trim = reddit_data['data']['children']\n",
    "\n",
    "#Dictionary to count the number of words in each title\n",
    "title_word_count = {}\n",
    "\n",
    "#iterates through list to retrieve the title of each post\n",
    "for x in initial_trim:\n",
    "    title_word_count[x['data']['title']] = [len(x['data']['title'].split())]\n",
    "\n",
    "final_data_frame = pd.DataFrame.from_dict(title_word_count).T\n",
    "final_data_frame.columns = ['Title Word Count']\n",
    "final_data_frame.sort_values(by=['Title Word Count'],ascending=True,inplace=True)\n",
    "print(final_data_frame.describe())\n",
    "plot = final_data_frame.hist(bins=100, grid=False)"
   ]
  },
  {
   "cell_type": "code",
   "execution_count": null,
   "metadata": {},
   "outputs": [],
   "source": []
  },
  {
   "cell_type": "code",
   "execution_count": null,
   "metadata": {},
   "outputs": [],
   "source": []
  }
 ],
 "metadata": {
  "kernelspec": {
   "display_name": "Python 3",
   "language": "python",
   "name": "python3"
  },
  "language_info": {
   "codemirror_mode": {
    "name": "ipython",
    "version": 3
   },
   "file_extension": ".py",
   "mimetype": "text/x-python",
   "name": "python",
   "nbconvert_exporter": "python",
   "pygments_lexer": "ipython3",
   "version": "3.8.3"
  }
 },
 "nbformat": 4,
 "nbformat_minor": 4
}
