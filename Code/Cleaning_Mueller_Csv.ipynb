{
 "cells": [
  {
   "cell_type": "code",
   "execution_count": 42,
   "metadata": {},
   "outputs": [
    {
     "name": "stderr",
     "output_type": "stream",
     "text": [
      "[nltk_data] Downloading package stopwords to\n",
      "[nltk_data]     /Users/davidhouse/nltk_data...\n",
      "[nltk_data]   Package stopwords is already up-to-date!\n"
     ]
    }
   ],
   "source": [
    "'''\n",
    "David House\n",
    "9/11/2020\n",
    "\n",
    "'''\n",
    "import json\n",
    "import pandas as pd\n",
    "import nltk\n",
    "nltk.download('stopwords')\n",
    "from nltk.corpus import stopwords \n",
    "from nltk.tokenize import word_tokenize \n",
    "\n",
    "# List of words such as 'the' 'and' 'of' which are not relavant to analysis\n",
    "stop_words = set(stopwords.words('english'))\n",
    "\n",
    "#loads in data retrieved from https://www.kaggle.com/paultimothymooney/mueller-report\n",
    "mueller_csv = pd.read_csv(\"../Data/mueller_report.csv\")\n",
    "\n",
    "def clean_and_count(mueller_csv):\n",
    "    '''Function to clean and split mueller_report.csv into seperate words and count word frequency.'''\n",
    "    dict_of_full_text = {}\n",
    "    for index, row in mueller_csv.iterrows():\n",
    "        if type(row['text']) == str:\n",
    "            for word in row['text'].split():\n",
    "                #filters stop words and words shorter than 4 characters\n",
    "                if not word in stop_words and len(word) > 3:\n",
    "                    if word in dict_of_full_text:\n",
    "                        dict_of_full_text[word] = dict_of_full_text[word] + 1\n",
    "                    else:\n",
    "                        dict_of_full_text[word] = 1\n",
    "    return dict_of_full_text\n",
    "\n",
    "def count_redactions(mueller_csv):\n",
    "    ''' Function to count occurences and types of redactions.'''\n",
    "    dict_of_redactions = {'HOM':0,'IT':0}\n",
    "    for index, row in mueller_csv.iterrows():\n",
    "        if type(row['text']) == str:\n",
    "            phrase = ''.join(row['text'].split())\n",
    "            if phrase == 'HOM' or phrase == 'HarmtoOngoingMatter':\n",
    "                dict_of_redactions['HOM'] = dict_of_redactions['HOM'] + 1\n",
    "            elif phrase == 'IT' or phrase == 'InvestigativeTechnique':\n",
    "                dict_of_redactions['IT'] = dict_of_redactions['IT'] + 1\n",
    "    return dict_of_redactions\n",
    "\n",
    "dict_of_full_text = clean_and_count(mueller_csv)\n",
    "dict_of_redactions = count_redactions(mueller_csv)\n",
    "\n",
    "# Orders data and saves 25 most used words to cleaned_mueller.csv\n",
    "list_of_words = list(dict_of_full_text)\n",
    "list_of_counts = list(dict_of_full_text.values())\n",
    "full_text_df = pd.DataFrame({'Words':list_of_words,'Counts':list_of_counts})\n",
    "full_text_df.sort_values(by='Counts', ascending=False, inplace=True)\n",
    "full_text_df.head(25).to_csv('../Data/cleaned_mueller.csv', index=False)\n",
    "\n",
    "# Loads dict_of_redactions into a csv\n",
    "redactions_df = pd.DataFrame(dict_of_redactions, index=[1])\n",
    "redactions_df = redactions_df.T\n",
    "redactions_df.columns = ['Count']\n",
    "redactions_df.to_csv('../Data/redactions.csv', index=False)\n"
   ]
  },
  {
   "cell_type": "code",
   "execution_count": null,
   "metadata": {},
   "outputs": [],
   "source": []
  }
 ],
 "metadata": {
  "kernelspec": {
   "display_name": "Python 3",
   "language": "python",
   "name": "python3"
  },
  "language_info": {
   "codemirror_mode": {
    "name": "ipython",
    "version": 3
   },
   "file_extension": ".py",
   "mimetype": "text/x-python",
   "name": "python",
   "nbconvert_exporter": "python",
   "pygments_lexer": "ipython3",
   "version": "3.8.3"
  }
 },
 "nbformat": 4,
 "nbformat_minor": 4
}
